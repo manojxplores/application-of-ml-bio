{
 "cells": [
  {
   "cell_type": "code",
   "execution_count": null,
   "metadata": {
    "_cell_guid": "b1076dfc-b9ad-4769-8c92-a6c4dae69d19",
    "_uuid": "8f2839f25d086af736a60e9eeb907d3b93b6e0e5",
    "execution": {
     "iopub.execute_input": "2025-09-11T03:47:11.997152Z",
     "iopub.status.busy": "2025-09-11T03:47:11.996739Z",
     "iopub.status.idle": "2025-09-11T03:47:13.138587Z",
     "shell.execute_reply": "2025-09-11T03:47:13.137759Z",
     "shell.execute_reply.started": "2025-09-11T03:47:11.997120Z"
    },
    "trusted": true
   },
   "outputs": [],
   "source": [
    "import numpy as np\n",
    "import pandas as pd \n",
    "import matplotlib.pyplot as plt\n",
    "import seaborn as sns\n",
    "\n",
    "sns.set_style('whitegrid')"
   ]
  },
  {
   "cell_type": "code",
   "execution_count": 2,
   "metadata": {
    "execution": {
     "iopub.execute_input": "2025-09-11T03:47:13.140885Z",
     "iopub.status.busy": "2025-09-11T03:47:13.140179Z",
     "iopub.status.idle": "2025-09-11T03:47:13.168968Z",
     "shell.execute_reply": "2025-09-11T03:47:13.167997Z",
     "shell.execute_reply.started": "2025-09-11T03:47:13.140859Z"
    },
    "trusted": true
   },
   "outputs": [
    {
     "data": {
      "text/html": [
       "<div>\n",
       "<style scoped>\n",
       "    .dataframe tbody tr th:only-of-type {\n",
       "        vertical-align: middle;\n",
       "    }\n",
       "\n",
       "    .dataframe tbody tr th {\n",
       "        vertical-align: top;\n",
       "    }\n",
       "\n",
       "    .dataframe thead th {\n",
       "        text-align: right;\n",
       "    }\n",
       "</style>\n",
       "<table border=\"1\" class=\"dataframe\">\n",
       "  <thead>\n",
       "    <tr style=\"text-align: right;\">\n",
       "      <th></th>\n",
       "      <th>age</th>\n",
       "      <th>sex</th>\n",
       "      <th>bmi</th>\n",
       "      <th>children</th>\n",
       "      <th>smoker</th>\n",
       "      <th>region</th>\n",
       "      <th>charges</th>\n",
       "    </tr>\n",
       "  </thead>\n",
       "  <tbody>\n",
       "    <tr>\n",
       "      <th>0</th>\n",
       "      <td>19</td>\n",
       "      <td>female</td>\n",
       "      <td>27.900</td>\n",
       "      <td>0</td>\n",
       "      <td>yes</td>\n",
       "      <td>southwest</td>\n",
       "      <td>16884.92400</td>\n",
       "    </tr>\n",
       "    <tr>\n",
       "      <th>1</th>\n",
       "      <td>18</td>\n",
       "      <td>male</td>\n",
       "      <td>33.770</td>\n",
       "      <td>1</td>\n",
       "      <td>no</td>\n",
       "      <td>southeast</td>\n",
       "      <td>1725.55230</td>\n",
       "    </tr>\n",
       "    <tr>\n",
       "      <th>2</th>\n",
       "      <td>28</td>\n",
       "      <td>male</td>\n",
       "      <td>33.000</td>\n",
       "      <td>3</td>\n",
       "      <td>no</td>\n",
       "      <td>southeast</td>\n",
       "      <td>4449.46200</td>\n",
       "    </tr>\n",
       "    <tr>\n",
       "      <th>3</th>\n",
       "      <td>33</td>\n",
       "      <td>male</td>\n",
       "      <td>22.705</td>\n",
       "      <td>0</td>\n",
       "      <td>no</td>\n",
       "      <td>northwest</td>\n",
       "      <td>21984.47061</td>\n",
       "    </tr>\n",
       "    <tr>\n",
       "      <th>4</th>\n",
       "      <td>32</td>\n",
       "      <td>male</td>\n",
       "      <td>28.880</td>\n",
       "      <td>0</td>\n",
       "      <td>no</td>\n",
       "      <td>northwest</td>\n",
       "      <td>3866.85520</td>\n",
       "    </tr>\n",
       "  </tbody>\n",
       "</table>\n",
       "</div>"
      ],
      "text/plain": [
       "   age     sex     bmi  children smoker     region      charges\n",
       "0   19  female  27.900         0    yes  southwest  16884.92400\n",
       "1   18    male  33.770         1     no  southeast   1725.55230\n",
       "2   28    male  33.000         3     no  southeast   4449.46200\n",
       "3   33    male  22.705         0     no  northwest  21984.47061\n",
       "4   32    male  28.880         0     no  northwest   3866.85520"
      ]
     },
     "execution_count": 2,
     "metadata": {},
     "output_type": "execute_result"
    }
   ],
   "source": [
    "df = pd.read_csv(\"data_insurance.csv\")\n",
    "df.head()"
   ]
  },
  {
   "cell_type": "code",
   "execution_count": 3,
   "metadata": {
    "execution": {
     "iopub.execute_input": "2025-09-11T03:47:13.170342Z",
     "iopub.status.busy": "2025-09-11T03:47:13.169997Z",
     "iopub.status.idle": "2025-09-11T03:47:13.184113Z",
     "shell.execute_reply": "2025-09-11T03:47:13.183063Z",
     "shell.execute_reply.started": "2025-09-11T03:47:13.170312Z"
    },
    "trusted": true
   },
   "outputs": [
    {
     "name": "stdout",
     "output_type": "stream",
     "text": [
      "<class 'pandas.core.frame.DataFrame'>\n",
      "RangeIndex: 1338 entries, 0 to 1337\n",
      "Data columns (total 7 columns):\n",
      " #   Column    Non-Null Count  Dtype  \n",
      "---  ------    --------------  -----  \n",
      " 0   age       1338 non-null   int64  \n",
      " 1   sex       1338 non-null   object \n",
      " 2   bmi       1338 non-null   float64\n",
      " 3   children  1338 non-null   int64  \n",
      " 4   smoker    1338 non-null   object \n",
      " 5   region    1338 non-null   object \n",
      " 6   charges   1338 non-null   float64\n",
      "dtypes: float64(2), int64(2), object(3)\n",
      "memory usage: 73.3+ KB\n"
     ]
    }
   ],
   "source": [
    "df.info()"
   ]
  },
  {
   "cell_type": "code",
   "execution_count": 4,
   "metadata": {
    "execution": {
     "iopub.execute_input": "2025-09-11T03:47:13.186493Z",
     "iopub.status.busy": "2025-09-11T03:47:13.186220Z",
     "iopub.status.idle": "2025-09-11T03:47:13.210233Z",
     "shell.execute_reply": "2025-09-11T03:47:13.209203Z",
     "shell.execute_reply.started": "2025-09-11T03:47:13.186472Z"
    },
    "trusted": true
   },
   "outputs": [
    {
     "data": {
      "text/plain": [
       "age         0\n",
       "sex         0\n",
       "bmi         0\n",
       "children    0\n",
       "smoker      0\n",
       "region      0\n",
       "charges     0\n",
       "dtype: int64"
      ]
     },
     "execution_count": 4,
     "metadata": {},
     "output_type": "execute_result"
    }
   ],
   "source": [
    "# Checking for missing values\n",
    "df.isnull().sum()"
   ]
  },
  {
   "cell_type": "code",
   "execution_count": 5,
   "metadata": {
    "execution": {
     "iopub.execute_input": "2025-09-11T03:47:13.211843Z",
     "iopub.status.busy": "2025-09-11T03:47:13.211342Z",
     "iopub.status.idle": "2025-09-11T03:47:13.249168Z",
     "shell.execute_reply": "2025-09-11T03:47:13.248020Z",
     "shell.execute_reply.started": "2025-09-11T03:47:13.211804Z"
    },
    "trusted": true
   },
   "outputs": [
    {
     "data": {
      "text/html": [
       "<div>\n",
       "<style scoped>\n",
       "    .dataframe tbody tr th:only-of-type {\n",
       "        vertical-align: middle;\n",
       "    }\n",
       "\n",
       "    .dataframe tbody tr th {\n",
       "        vertical-align: top;\n",
       "    }\n",
       "\n",
       "    .dataframe thead th {\n",
       "        text-align: right;\n",
       "    }\n",
       "</style>\n",
       "<table border=\"1\" class=\"dataframe\">\n",
       "  <thead>\n",
       "    <tr style=\"text-align: right;\">\n",
       "      <th></th>\n",
       "      <th>age</th>\n",
       "      <th>bmi</th>\n",
       "      <th>children</th>\n",
       "      <th>charges</th>\n",
       "    </tr>\n",
       "  </thead>\n",
       "  <tbody>\n",
       "    <tr>\n",
       "      <th>count</th>\n",
       "      <td>1338.000000</td>\n",
       "      <td>1338.000000</td>\n",
       "      <td>1338.000000</td>\n",
       "      <td>1338.000000</td>\n",
       "    </tr>\n",
       "    <tr>\n",
       "      <th>mean</th>\n",
       "      <td>39.207025</td>\n",
       "      <td>30.663397</td>\n",
       "      <td>1.094918</td>\n",
       "      <td>13270.422265</td>\n",
       "    </tr>\n",
       "    <tr>\n",
       "      <th>std</th>\n",
       "      <td>14.049960</td>\n",
       "      <td>6.098187</td>\n",
       "      <td>1.205493</td>\n",
       "      <td>12110.011237</td>\n",
       "    </tr>\n",
       "    <tr>\n",
       "      <th>min</th>\n",
       "      <td>18.000000</td>\n",
       "      <td>15.960000</td>\n",
       "      <td>0.000000</td>\n",
       "      <td>1121.873900</td>\n",
       "    </tr>\n",
       "    <tr>\n",
       "      <th>25%</th>\n",
       "      <td>27.000000</td>\n",
       "      <td>26.296250</td>\n",
       "      <td>0.000000</td>\n",
       "      <td>4740.287150</td>\n",
       "    </tr>\n",
       "    <tr>\n",
       "      <th>50%</th>\n",
       "      <td>39.000000</td>\n",
       "      <td>30.400000</td>\n",
       "      <td>1.000000</td>\n",
       "      <td>9382.033000</td>\n",
       "    </tr>\n",
       "    <tr>\n",
       "      <th>75%</th>\n",
       "      <td>51.000000</td>\n",
       "      <td>34.693750</td>\n",
       "      <td>2.000000</td>\n",
       "      <td>16639.912515</td>\n",
       "    </tr>\n",
       "    <tr>\n",
       "      <th>max</th>\n",
       "      <td>64.000000</td>\n",
       "      <td>53.130000</td>\n",
       "      <td>5.000000</td>\n",
       "      <td>63770.428010</td>\n",
       "    </tr>\n",
       "  </tbody>\n",
       "</table>\n",
       "</div>"
      ],
      "text/plain": [
       "               age          bmi     children       charges\n",
       "count  1338.000000  1338.000000  1338.000000   1338.000000\n",
       "mean     39.207025    30.663397     1.094918  13270.422265\n",
       "std      14.049960     6.098187     1.205493  12110.011237\n",
       "min      18.000000    15.960000     0.000000   1121.873900\n",
       "25%      27.000000    26.296250     0.000000   4740.287150\n",
       "50%      39.000000    30.400000     1.000000   9382.033000\n",
       "75%      51.000000    34.693750     2.000000  16639.912515\n",
       "max      64.000000    53.130000     5.000000  63770.428010"
      ]
     },
     "execution_count": 5,
     "metadata": {},
     "output_type": "execute_result"
    }
   ],
   "source": [
    "df.describe()"
   ]
  },
  {
   "cell_type": "markdown",
   "metadata": {},
   "source": [
    "## Exploratory Data Analysis"
   ]
  },
  {
   "cell_type": "code",
   "execution_count": 6,
   "metadata": {
    "execution": {
     "iopub.execute_input": "2025-09-11T03:47:13.250554Z",
     "iopub.status.busy": "2025-09-11T03:47:13.250207Z",
     "iopub.status.idle": "2025-09-11T03:47:13.668880Z",
     "shell.execute_reply": "2025-09-11T03:47:13.667877Z",
     "shell.execute_reply.started": "2025-09-11T03:47:13.250532Z"
    },
    "trusted": true
   },
   "outputs": [
    {
     "data": {
      "text/plain": [
       "<Axes: xlabel='charges', ylabel='Count'>"
      ]
     },
     "execution_count": 6,
     "metadata": {},
     "output_type": "execute_result"
    },
    {
     "data": {
      "image/png": "[encoded data removed]",
      "text/plain": [
       "<Figure size 640x480 with 1 Axes>"
      ]
     },
     "metadata": {},
     "output_type": "display_data"
    }
   ],
   "source": [
    "sns.histplot(data=df, x='charges', kde=True)"
   ]
  },
  {
   "cell_type": "code",
   "execution_count": 7,
   "metadata": {
    "execution": {
     "iopub.execute_input": "2025-09-11T03:47:13.670225Z",
     "iopub.status.busy": "2025-09-11T03:47:13.669940Z",
     "iopub.status.idle": "2025-09-11T03:47:13.902738Z",
     "shell.execute_reply": "2025-09-11T03:47:13.901693Z",
     "shell.execute_reply.started": "2025-09-11T03:47:13.670202Z"
    },
    "trusted": true
   },
   "outputs": [
    {
     "data": {
      "text/plain": [
       "<Axes: xlabel='charges'>"
      ]
     },
     "execution_count": 7,
     "metadata": {},
     "output_type": "execute_result"
    },
    {
     "data": {
      "image/png": "[encoded data removed]",
      "text/plain": [
       "<Figure size 640x480 with 1 Axes>"
      ]
     },
     "metadata": {},
     "output_type": "display_data"
    }
   ],
   "source": [
    "sns.boxplot(data=df, x='charges')"
   ]
  },
  {
   "cell_type": "code",
   "execution_count": 8,
   "metadata": {
    "execution": {
     "iopub.execute_input": "2025-09-11T03:47:13.904022Z",
     "iopub.status.busy": "2025-09-11T03:47:13.903746Z",
     "iopub.status.idle": "2025-09-11T03:47:13.908865Z",
     "shell.execute_reply": "2025-09-11T03:47:13.907645Z",
     "shell.execute_reply.started": "2025-09-11T03:47:13.903999Z"
    },
    "trusted": true
   },
   "outputs": [],
   "source": [
    "# Outlier detection and removal\n",
    "# Q1 = df['charges'].quantile(0.25)\n",
    "# Q3 = df['charges'].quantile(0.75)\n",
    "\n",
    "# IQR = Q3 - Q1\n",
    "# upper_fence = Q3 + 1.5*IQR\n",
    "# lower_fence = Q1 - 1.5*IQR\n",
    "\n",
    "# df = df[(df['charges'] >= lower_fence) & (df['charges'] <= upper_fence)]"
   ]
  },
  {
   "cell_type": "markdown",
   "metadata": {},
   "source": [
    "## Feature Engineering"
   ]
  },
  {
   "cell_type": "code",
   "execution_count": 9,
   "metadata": {
    "execution": {
     "iopub.execute_input": "2025-09-11T03:47:13.910321Z",
     "iopub.status.busy": "2025-09-11T03:47:13.909941Z",
     "iopub.status.idle": "2025-09-11T03:47:13.940761Z",
     "shell.execute_reply": "2025-09-11T03:47:13.939923Z",
     "shell.execute_reply.started": "2025-09-11T03:47:13.910287Z"
    },
    "trusted": true
   },
   "outputs": [],
   "source": [
    "# Feature Engineering\n",
    "df['bmi_age_interaction'] = df['bmi'] * df['age']\n",
    "df['smoker_bmi_interaction'] = df['bmi'] * (df['smoker'] == 'yes').astype(int)\n",
    "df['smoker_age_interaction'] = df['age'] * (df['smoker'] == 'yes').astype(int)\n",
    "df['children_age_interaction'] = df['children'] * df['age']\n",
    "\n",
    "def categorize_bmi(bmi):\n",
    "    if bmi < 18.5:\n",
    "        return 'underweight'\n",
    "    elif bmi < 25:\n",
    "        return 'normal'\n",
    "    elif bmi < 30:\n",
    "        return 'overweight'\n",
    "    else:\n",
    "        return 'obese'\n",
    "\n",
    "df['bmi_category'] = df['bmi'].apply(categorize_bmi)\n",
    "\n",
    "# Age groups\n",
    "def categorize_age(age):\n",
    "    if age < 25:\n",
    "        return 'young'\n",
    "    elif age < 40:\n",
    "        return 'middle_young'\n",
    "    elif age < 55:\n",
    "        return 'middle_old'\n",
    "    else:\n",
    "        return 'old'\n",
    "\n",
    "df['age_category'] = df['age'].apply(categorize_age)\n",
    "df['high_risk_smoker'] = ((df['smoker'] == 'yes') & (df['bmi'] >= 30)).astype(int)\n",
    "df['elderly_smoker'] = ((df['smoker'] == 'yes') & (df['age'] >= 50)).astype(int)"
   ]
  },
  {
   "cell_type": "code",
   "execution_count": 10,
   "metadata": {
    "execution": {
     "iopub.execute_input": "2025-09-11T03:47:13.943422Z",
     "iopub.status.busy": "2025-09-11T03:47:13.943164Z",
     "iopub.status.idle": "2025-09-11T03:47:13.968572Z",
     "shell.execute_reply": "2025-09-11T03:47:13.967529Z",
     "shell.execute_reply.started": "2025-09-11T03:47:13.943403Z"
    },
    "trusted": true
   },
   "outputs": [],
   "source": [
    "X = df.drop(columns=[\"charges\"])\n",
    "y = df['charges']"
   ]
  },
  {
   "cell_type": "markdown",
   "metadata": {},
   "source": [
    "## Model Building & Evaluation "
   ]
  },
  {
   "cell_type": "code",
   "execution_count": 11,
   "metadata": {
    "execution": {
     "iopub.execute_input": "2025-09-11T03:48:03.952244Z",
     "iopub.status.busy": "2025-09-11T03:48:03.951890Z",
     "iopub.status.idle": "2025-09-11T03:48:04.008320Z",
     "shell.execute_reply": "2025-09-11T03:48:04.006666Z",
     "shell.execute_reply.started": "2025-09-11T03:48:03.952220Z"
    },
    "trusted": true
   },
   "outputs": [
    {
     "name": "stdout",
     "output_type": "stream",
     "text": [
      "\n",
      "==================================================\n",
      "MODEL EVALUATION RESULTS\n",
      "==================================================\n",
      "Training R² Score: 0.8695\n",
      "Test R² Score: 0.8684\n",
      "Training MSE: 18,937,580.69\n",
      "Test MSE: 19,850,697.11\n",
      "Training RMSE: 4,351.73\n",
      "Test RMSE: 4,455.41\n"
     ]
    }
   ],
   "source": [
    "from sklearn.model_selection import train_test_split\n",
    "from sklearn.preprocessing import StandardScaler, OneHotEncoder\n",
    "from sklearn.pipeline import Pipeline\n",
    "from sklearn.compose import ColumnTransformer\n",
    "from sklearn.linear_model import LinearRegression\n",
    "from sklearn.metrics import r2_score, mean_squared_error, mean_absolute_error\n",
    "\n",
    "X_train, X_test, y_train, y_test = train_test_split(X, y, test_size=0.25, random_state=42)\n",
    "\n",
    "numerical_features = [\n",
    "    'age', 'bmi', 'children',\n",
    "    'bmi_age_interaction', 'smoker_bmi_interaction',\n",
    "    'smoker_age_interaction', 'children_age_interaction',\n",
    "    'high_risk_smoker', 'elderly_smoker'\n",
    "]\n",
    "\n",
    "categorical_features = ['sex', 'smoker', 'region', 'bmi_category', 'age_category']\n",
    "\n",
    "preprocessor = ColumnTransformer([\n",
    "        ('cat', OneHotEncoder(drop='first', sparse_output=False, handle_unknown='ignore'), categorical_features),\n",
    "        ('num', StandardScaler(), numerical_features)\n",
    "    ], remainder='passthrough')\n",
    "\n",
    "pipeline = Pipeline([\n",
    "    ('preprocessor', preprocessor),\n",
    "    ('model', LinearRegression())\n",
    "])\n",
    "\n",
    "pipeline.fit(X_train, y_train)\n",
    "\n",
    "y_train_pred = pipeline.predict(X_train)\n",
    "y_test_pred = pipeline.predict(X_test)\n",
    "\n",
    "train_r2 = r2_score(y_train, y_train_pred)\n",
    "test_r2 = r2_score(y_test, y_test_pred)\n",
    "train_mse = mean_squared_error(y_train, y_train_pred)\n",
    "test_mse = mean_squared_error(y_test, y_test_pred)\n",
    "train_rmse = np.sqrt(train_mse)\n",
    "test_rmse = np.sqrt(test_mse)\n",
    "\n",
    "print(\"\\n\" + \"=\"*50)\n",
    "print(\"MODEL EVALUATION RESULTS\")\n",
    "print(\"=\"*50)\n",
    "print(f\"Training R² Score: {train_r2:.4f}\")\n",
    "print(f\"Test R² Score: {test_r2:.4f}\")\n",
    "print(f\"Training MSE: {train_mse:,.2f}\")\n",
    "print(f\"Test MSE: {test_mse:,.2f}\")\n",
    "print(f\"Training RMSE: {train_rmse:,.2f}\")\n",
    "print(f\"Test RMSE: {test_rmse:,.2f}\")"
   ]
  },
  {
   "cell_type": "code",
   "execution_count": 12,
   "metadata": {
    "execution": {
     "iopub.execute_input": "2025-09-11T03:47:14.137101Z",
     "iopub.status.busy": "2025-09-11T03:47:14.136817Z",
     "iopub.status.idle": "2025-09-11T03:47:14.150504Z",
     "shell.execute_reply": "2025-09-11T03:47:14.149128Z",
     "shell.execute_reply.started": "2025-09-11T03:47:14.137077Z"
    },
    "trusted": true
   },
   "outputs": [
    {
     "name": "stdout",
     "output_type": "stream",
     "text": [
      "                    feature  coefficient  abs_coefficient\n",
      "15  bmi_category_overweight  5661.943186      5661.943186\n",
      "18         age_category_old  4844.171569      4844.171569\n",
      "11         region_northwest  3781.533279      3781.533279\n",
      "10               smoker_yes  2283.587693      2283.587693\n",
      "7          high_risk_smoker -1464.320419      1464.320419\n",
      "1                       bmi  1444.573792      1444.573792\n",
      "4    smoker_bmi_interaction -1330.455293      1330.455293\n",
      "13         region_southwest   750.756421       750.756421\n",
      "3       bmi_age_interaction  -742.255681       742.255681\n",
      "14       bmi_category_obese   678.202289       678.202289\n"
     ]
    }
   ],
   "source": [
    "feature_names = (numerical_features + \n",
    "                list(pipeline.named_steps['preprocessor']\n",
    "                    .named_transformers_['cat']\n",
    "                    .get_feature_names_out()))\n",
    "\n",
    "coefficients = pipeline.named_steps['model'].coef_\n",
    "feature_importance = pd.DataFrame({\n",
    "    'feature': feature_names,\n",
    "    'coefficient': coefficients,\n",
    "    'abs_coefficient': np.abs(coefficients)\n",
    "}).sort_values('abs_coefficient', ascending=False)\n",
    "\n",
    "print(feature_importance[:10])"
   ]
  }
 ],
 "metadata": {
  "kaggle": {
   "accelerator": "none",
   "dataSources": [
    {
     "datasetId": 8180250,
     "sourceId": 12927617,
     "sourceType": "datasetVersion"
    }
   ],
   "dockerImageVersionId": 31089,
   "isGpuEnabled": false,
   "isInternetEnabled": true,
   "language": "python",
   "sourceType": "notebook"
  },
  "kernelspec": {
   "display_name": "Python 3",
   "language": "python",
   "name": "python3"
  },
  "language_info": {
   "codemirror_mode": {
    "name": "ipython",
    "version": 3
   },
   "file_extension": ".py",
   "mimetype": "text/x-python",
   "name": "python",
   "nbconvert_exporter": "python",
   "pygments_lexer": "ipython3",
   "version": "3.13.6"
  }
 },
 "nbformat": 4,
 "nbformat_minor": 4
}
